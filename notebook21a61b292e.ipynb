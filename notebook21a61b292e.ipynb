{
  "metadata": {
    "kernelspec": {
      "language": "python",
      "display_name": "Python 3",
      "name": "python3"
    },
    "language_info": {
      "name": "python",
      "version": "3.10.12",
      "mimetype": "text/x-python",
      "codemirror_mode": {
        "name": "ipython",
        "version": 3
      },
      "pygments_lexer": "ipython3",
      "nbconvert_exporter": "python",
      "file_extension": ".py"
    },
    "kaggle": {
      "accelerator": "none",
      "dataSources": [],
      "dockerImageVersionId": 30587,
      "isInternetEnabled": true,
      "language": "python",
      "sourceType": "notebook",
      "isGpuEnabled": false
    },
    "colab": {
      "name": "notebook21a61b292e",
      "provenance": []
    }
  },
  "nbformat_minor": 0,
  "nbformat": 4,
  "cells": [
    {
      "cell_type": "code",
      "source": [
        "import numpy as np\n",
        "import matplotlib.pyplot as plt\n",
        "from tensorflow.keras.datasets import mnist\n",
        "from tensorflow.keras.models import Sequential\n",
        "from tensorflow.keras.layers import Dense\n",
        "from tensorflow.keras.utils import to_categorical"
      ],
      "metadata": {
        "_uuid": "8f2839f25d086af736a60e9eeb907d3b93b6e0e5",
        "_cell_guid": "b1076dfc-b9ad-4769-8c92-a6c4dae69d19",
        "execution": {
          "iopub.status.busy": "2023-11-27T17:04:01.175443Z",
          "iopub.execute_input": "2023-11-27T17:04:01.175989Z",
          "iopub.status.idle": "2023-11-27T17:04:16.336824Z",
          "shell.execute_reply.started": "2023-11-27T17:04:01.175949Z",
          "shell.execute_reply": "2023-11-27T17:04:16.335344Z"
        },
        "trusted": true,
        "id": "N21ddriYusyc"
      },
      "execution_count": 1,
      "outputs": []
    },
    {
      "cell_type": "code",
      "source": [
        "(X_train, y_train), (X_test, y_test) = mnist.load_data()"
      ],
      "metadata": {
        "execution": {
          "iopub.status.busy": "2023-11-27T17:04:21.375992Z",
          "iopub.execute_input": "2023-11-27T17:04:21.376878Z",
          "iopub.status.idle": "2023-11-27T17:04:21.910863Z",
          "shell.execute_reply.started": "2023-11-27T17:04:21.376832Z",
          "shell.execute_reply": "2023-11-27T17:04:21.909469Z"
        },
        "trusted": true,
        "id": "HYGll4X2usye",
        "outputId": "b1af265f-34b1-4356-a620-cbd09a709c40",
        "colab": {
          "base_uri": "https://localhost:8080/"
        }
      },
      "execution_count": 2,
      "outputs": [
        {
          "output_type": "stream",
          "name": "stdout",
          "text": [
            "Downloading data from https://storage.googleapis.com/tensorflow/tf-keras-datasets/mnist.npz\n",
            "\u001b[1m11490434/11490434\u001b[0m \u001b[32m━━━━━━━━━━━━━━━━━━━━\u001b[0m\u001b[37m\u001b[0m \u001b[1m0s\u001b[0m 0us/step\n"
          ]
        }
      ]
    },
    {
      "cell_type": "code",
      "source": [
        "X_train = X_train.reshape((X_train.shape[0], 28 * 28)).astype('float32') / 255\n",
        "X_test = X_test.reshape((X_test.shape[0], 28 * 28)).astype('float32') / 255\n"
      ],
      "metadata": {
        "execution": {
          "iopub.status.busy": "2023-11-27T17:04:50.664924Z",
          "iopub.execute_input": "2023-11-27T17:04:50.665355Z",
          "iopub.status.idle": "2023-11-27T17:04:50.86529Z",
          "shell.execute_reply.started": "2023-11-27T17:04:50.665322Z",
          "shell.execute_reply": "2023-11-27T17:04:50.86428Z"
        },
        "trusted": true,
        "id": "OTSO5k2ausye"
      },
      "execution_count": 3,
      "outputs": []
    },
    {
      "cell_type": "code",
      "source": [
        "y_train = to_categorical(y_train)\n",
        "y_test = to_categorical(y_test)"
      ],
      "metadata": {
        "execution": {
          "iopub.status.busy": "2023-11-27T17:05:52.216363Z",
          "iopub.execute_input": "2023-11-27T17:05:52.217153Z",
          "iopub.status.idle": "2023-11-27T17:05:52.22991Z",
          "shell.execute_reply.started": "2023-11-27T17:05:52.217108Z",
          "shell.execute_reply": "2023-11-27T17:05:52.228464Z"
        },
        "trusted": true,
        "id": "pcVRq-tausyf"
      },
      "execution_count": 4,
      "outputs": []
    },
    {
      "cell_type": "code",
      "source": [
        "model = Sequential()\n",
        "model.add(Dense(128, input_dim=28 * 28, activation='relu'))\n",
        "model.add(Dense(10, activation='softmax'))\n"
      ],
      "metadata": {
        "execution": {
          "iopub.status.busy": "2023-11-27T17:06:15.129668Z",
          "iopub.execute_input": "2023-11-27T17:06:15.130705Z",
          "iopub.status.idle": "2023-11-27T17:06:15.172679Z",
          "shell.execute_reply.started": "2023-11-27T17:06:15.130643Z",
          "shell.execute_reply": "2023-11-27T17:06:15.171334Z"
        },
        "trusted": true,
        "id": "k8tNp6Fjusyf",
        "outputId": "137d7bc1-0934-4f39-90a3-a6a62d830dae",
        "colab": {
          "base_uri": "https://localhost:8080/"
        }
      },
      "execution_count": 5,
      "outputs": [
        {
          "output_type": "stream",
          "name": "stderr",
          "text": [
            "/usr/local/lib/python3.10/dist-packages/keras/src/layers/core/dense.py:87: UserWarning: Do not pass an `input_shape`/`input_dim` argument to a layer. When using Sequential models, prefer using an `Input(shape)` object as the first layer in the model instead.\n",
            "  super().__init__(activity_regularizer=activity_regularizer, **kwargs)\n"
          ]
        }
      ]
    },
    {
      "cell_type": "code",
      "source": [
        "model.compile(loss='categorical_crossentropy', optimizer='adam', metrics=['accuracy'])"
      ],
      "metadata": {
        "execution": {
          "iopub.status.busy": "2023-11-27T17:06:36.499499Z",
          "iopub.execute_input": "2023-11-27T17:06:36.500988Z",
          "iopub.status.idle": "2023-11-27T17:06:36.527965Z",
          "shell.execute_reply.started": "2023-11-27T17:06:36.500928Z",
          "shell.execute_reply": "2023-11-27T17:06:36.526904Z"
        },
        "trusted": true,
        "id": "VArzxuTjusyf"
      },
      "execution_count": 6,
      "outputs": []
    },
    {
      "cell_type": "code",
      "source": [
        "model.fit(X_train, y_train, epochs=10, batch_size=200, validation_data=(X_test, y_test), verbose=2)"
      ],
      "metadata": {
        "execution": {
          "iopub.status.busy": "2023-11-27T17:07:13.324838Z",
          "iopub.execute_input": "2023-11-27T17:07:13.325328Z",
          "iopub.status.idle": "2023-11-27T17:07:29.027636Z",
          "shell.execute_reply.started": "2023-11-27T17:07:13.32529Z",
          "shell.execute_reply": "2023-11-27T17:07:29.026475Z"
        },
        "trusted": true,
        "id": "P2CnaDLmusyf",
        "outputId": "d67ec76e-0c1a-4484-fa37-3907a1878f9b",
        "colab": {
          "base_uri": "https://localhost:8080/"
        }
      },
      "execution_count": 7,
      "outputs": [
        {
          "output_type": "stream",
          "name": "stdout",
          "text": [
            "Epoch 1/10\n",
            "300/300 - 3s - 10ms/step - accuracy: 0.8905 - loss: 0.4035 - val_accuracy: 0.9361 - val_loss: 0.2261\n",
            "Epoch 2/10\n",
            "300/300 - 2s - 8ms/step - accuracy: 0.9457 - loss: 0.1927 - val_accuracy: 0.9516 - val_loss: 0.1634\n",
            "Epoch 3/10\n",
            "300/300 - 2s - 8ms/step - accuracy: 0.9582 - loss: 0.1456 - val_accuracy: 0.9641 - val_loss: 0.1294\n",
            "Epoch 4/10\n",
            "300/300 - 3s - 12ms/step - accuracy: 0.9669 - loss: 0.1156 - val_accuracy: 0.9655 - val_loss: 0.1136\n",
            "Epoch 5/10\n",
            "300/300 - 2s - 6ms/step - accuracy: 0.9725 - loss: 0.0947 - val_accuracy: 0.9692 - val_loss: 0.1022\n",
            "Epoch 6/10\n",
            "300/300 - 1s - 5ms/step - accuracy: 0.9775 - loss: 0.0795 - val_accuracy: 0.9728 - val_loss: 0.0893\n",
            "Epoch 7/10\n",
            "300/300 - 3s - 9ms/step - accuracy: 0.9813 - loss: 0.0678 - val_accuracy: 0.9755 - val_loss: 0.0800\n",
            "Epoch 8/10\n",
            "300/300 - 2s - 8ms/step - accuracy: 0.9835 - loss: 0.0577 - val_accuracy: 0.9754 - val_loss: 0.0803\n",
            "Epoch 9/10\n",
            "300/300 - 3s - 10ms/step - accuracy: 0.9863 - loss: 0.0497 - val_accuracy: 0.9760 - val_loss: 0.0758\n",
            "Epoch 10/10\n",
            "300/300 - 2s - 8ms/step - accuracy: 0.9881 - loss: 0.0430 - val_accuracy: 0.9775 - val_loss: 0.0747\n"
          ]
        },
        {
          "output_type": "execute_result",
          "data": {
            "text/plain": [
              "<keras.src.callbacks.history.History at 0x7c5ab3af9900>"
            ]
          },
          "metadata": {},
          "execution_count": 7
        }
      ]
    },
    {
      "cell_type": "code",
      "source": [
        "scores = model.evaluate(X_test, y_test, verbose=0)\n",
        "print(\"Accuracy: %.2f%%\" % (scores[1] * 100))"
      ],
      "metadata": {
        "execution": {
          "iopub.status.busy": "2023-11-27T17:07:36.895216Z",
          "iopub.execute_input": "2023-11-27T17:07:36.895685Z",
          "iopub.status.idle": "2023-11-27T17:07:37.700411Z",
          "shell.execute_reply.started": "2023-11-27T17:07:36.895649Z",
          "shell.execute_reply": "2023-11-27T17:07:37.699057Z"
        },
        "trusted": true,
        "id": "nlucLTwZusyg",
        "outputId": "6e621516-b4ac-456e-c3b0-8a8f4d4fdd0f",
        "colab": {
          "base_uri": "https://localhost:8080/"
        }
      },
      "execution_count": 8,
      "outputs": [
        {
          "output_type": "stream",
          "name": "stdout",
          "text": [
            "Accuracy: 97.75%\n"
          ]
        }
      ]
    },
    {
      "cell_type": "code",
      "source": [
        "predictions = model.predict(X_test[:5])"
      ],
      "metadata": {
        "execution": {
          "iopub.status.busy": "2023-11-27T17:07:59.787378Z",
          "iopub.execute_input": "2023-11-27T17:07:59.78811Z",
          "iopub.status.idle": "2023-11-27T17:07:59.976551Z",
          "shell.execute_reply.started": "2023-11-27T17:07:59.788055Z",
          "shell.execute_reply": "2023-11-27T17:07:59.975325Z"
        },
        "trusted": true,
        "id": "l7kW9TGvusyg",
        "outputId": "a60adee5-b565-408f-c57b-54c9535b79e4",
        "colab": {
          "base_uri": "https://localhost:8080/"
        }
      },
      "execution_count": 9,
      "outputs": [
        {
          "output_type": "stream",
          "name": "stdout",
          "text": [
            "\u001b[1m1/1\u001b[0m \u001b[32m━━━━━━━━━━━━━━━━━━━━\u001b[0m\u001b[37m\u001b[0m \u001b[1m0s\u001b[0m 52ms/step\n"
          ]
        }
      ]
    },
    {
      "cell_type": "code",
      "source": [
        "for i in range(5):\n",
        "    print(f\"Actual: {np.argmax(y_test[i])}, Predicted: {np.argmax(predictions[i])}\")"
      ],
      "metadata": {
        "execution": {
          "iopub.status.busy": "2023-11-27T17:08:14.169887Z",
          "iopub.execute_input": "2023-11-27T17:08:14.170357Z",
          "iopub.status.idle": "2023-11-27T17:08:14.177125Z",
          "shell.execute_reply.started": "2023-11-27T17:08:14.17032Z",
          "shell.execute_reply": "2023-11-27T17:08:14.175929Z"
        },
        "trusted": true,
        "id": "MsWAyJzjusyg",
        "outputId": "ced6843c-6122-40fd-cd86-f646b54d4927",
        "colab": {
          "base_uri": "https://localhost:8080/"
        }
      },
      "execution_count": 10,
      "outputs": [
        {
          "output_type": "stream",
          "name": "stdout",
          "text": [
            "Actual: 7, Predicted: 7\n",
            "Actual: 2, Predicted: 2\n",
            "Actual: 1, Predicted: 1\n",
            "Actual: 0, Predicted: 0\n",
            "Actual: 4, Predicted: 4\n"
          ]
        }
      ]
    },
    {
      "cell_type": "code",
      "source": [
        "for i in range(5):\n",
        "    plt.subplot(1, 5, i + 1)\n",
        "    plt.imshow(X_test[i].reshape(28, 28), cmap='gray')\n",
        "    plt.title(f\"Predicted: {np.argmax(predictions[i])}\")\n",
        "    plt.axis('off')\n",
        "\n",
        "plt.show()"
      ],
      "metadata": {
        "execution": {
          "iopub.status.busy": "2023-11-27T17:42:33.422917Z",
          "iopub.execute_input": "2023-11-27T17:42:33.4235Z",
          "iopub.status.idle": "2023-11-27T17:42:33.801441Z",
          "shell.execute_reply.started": "2023-11-27T17:42:33.423458Z",
          "shell.execute_reply": "2023-11-27T17:42:33.799811Z"
        },
        "trusted": true,
        "id": "7iHN607xusyg",
        "outputId": "08cbc8bc-5b8b-48a7-8984-2f86a9822188",
        "colab": {
          "base_uri": "https://localhost:8080/",
          "height": 144
        }
      },
      "execution_count": 11,
      "outputs": [
        {
          "output_type": "display_data",
          "data": {
            "text/plain": [
              "<Figure size 640x480 with 5 Axes>"
            ],
            "image/png": "[encoded data removed]"
          },
          "metadata": {}
        }
      ]
    }
  ]
}